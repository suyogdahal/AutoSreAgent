{
 "cells": [
  {
   "cell_type": "code",
   "execution_count": 1,
   "id": "2346fd34",
   "metadata": {},
   "outputs": [],
   "source": [
    "%load_ext autoreload\n",
    "%autoreload 2"
   ]
  },
  {
   "cell_type": "code",
   "execution_count": 2,
   "id": "0ddf885c",
   "metadata": {},
   "outputs": [],
   "source": [
    "import sys\n",
    "from pathlib import Path\n",
    "\n",
    "# Add the parent directory to the system path\n",
    "sys.path.append(str(Path.cwd().parent))"
   ]
  },
  {
   "cell_type": "code",
   "execution_count": 3,
   "id": "c243778e",
   "metadata": {},
   "outputs": [],
   "source": [
    "# Configure the log file path\n",
    "LOG_FILE_PATH = Path(\"/Users/suyog/personal/sreAgent/output/logs.log\")"
   ]
  },
  {
   "cell_type": "code",
   "execution_count": 4,
   "id": "0f236c41",
   "metadata": {},
   "outputs": [
    {
     "ename": "ModuleNotFoundError",
     "evalue": "No module named 'base'",
     "output_type": "error",
     "traceback": [
      "\u001b[31m---------------------------------------------------------------------------\u001b[39m",
      "\u001b[31mModuleNotFoundError\u001b[39m                       Traceback (most recent call last)",
      "\u001b[36mCell\u001b[39m\u001b[36m \u001b[39m\u001b[32mIn[4]\u001b[39m\u001b[32m, line 8\u001b[39m\n\u001b[32m      6\u001b[39m \u001b[38;5;66;03m# Import custom tools\u001b[39;00m\n\u001b[32m      7\u001b[39m \u001b[38;5;28;01mfrom\u001b[39;00m\u001b[38;5;250m \u001b[39m\u001b[34;01mtools\u001b[39;00m\u001b[34;01m.\u001b[39;00m\u001b[34;01moncall_employees\u001b[39;00m\u001b[38;5;250m \u001b[39m\u001b[38;5;28;01mimport\u001b[39;00m GetOncallEmployeesTool\n\u001b[32m----> \u001b[39m\u001b[32m8\u001b[39m \u001b[38;5;28;01mfrom\u001b[39;00m\u001b[38;5;250m \u001b[39m\u001b[34;01mtools\u001b[39;00m\u001b[34;01m.\u001b[39;00m\u001b[34;01mjira\u001b[39;00m\u001b[38;5;250m \u001b[39m\u001b[38;5;28;01mimport\u001b[39;00m CreateJiraTicketTool\n\u001b[32m      9\u001b[39m \u001b[38;5;28;01mfrom\u001b[39;00m\u001b[38;5;250m \u001b[39m\u001b[34;01mtools\u001b[39;00m\u001b[34;01m.\u001b[39;00m\u001b[34;01mfile\u001b[39;00m\u001b[38;5;250m \u001b[39m\u001b[38;5;28;01mimport\u001b[39;00m FilteredLogReaderTool\n\u001b[32m     10\u001b[39m \u001b[38;5;28;01mfrom\u001b[39;00m\u001b[38;5;250m \u001b[39m\u001b[34;01mtools\u001b[39;00m\u001b[34;01m.\u001b[39;00m\u001b[34;01mstack_exchange\u001b[39;00m\u001b[38;5;250m \u001b[39m\u001b[38;5;28;01mimport\u001b[39;00m StackExchangeTool\n",
      "\u001b[36mFile \u001b[39m\u001b[32m~/personal/sreAgent/tools/jira.py:10\u001b[39m\n\u001b[32m      7\u001b[39m \u001b[38;5;28;01mfrom\u001b[39;00m\u001b[38;5;250m \u001b[39m\u001b[34;01mloguru\u001b[39;00m\u001b[38;5;250m \u001b[39m\u001b[38;5;28;01mimport\u001b[39;00m logger\n\u001b[32m      8\u001b[39m \u001b[38;5;28;01mfrom\u001b[39;00m\u001b[38;5;250m \u001b[39m\u001b[34;01mpydantic\u001b[39;00m\u001b[38;5;250m \u001b[39m\u001b[38;5;28;01mimport\u001b[39;00m BaseModel, Field\n\u001b[32m---> \u001b[39m\u001b[32m10\u001b[39m \u001b[38;5;28;01mfrom\u001b[39;00m\u001b[38;5;250m \u001b[39m\u001b[34;01mbase\u001b[39;00m\u001b[38;5;250m \u001b[39m\u001b[38;5;28;01mimport\u001b[39;00m AutoSreAgentBaseTool\n\u001b[32m     12\u001b[39m load_dotenv(\u001b[33m\"\u001b[39m\u001b[33m/Users/suyog/personal/sreAgent/.env\u001b[39m\u001b[33m\"\u001b[39m)\n\u001b[32m     15\u001b[39m \u001b[38;5;28;01mclass\u001b[39;00m\u001b[38;5;250m \u001b[39m\u001b[34;01mJiraTicketInput\u001b[39;00m(BaseModel):\n",
      "\u001b[31mModuleNotFoundError\u001b[39m: No module named 'base'"
     ]
    }
   ],
   "source": [
    "from langchain import hub\n",
    "from langchain.agents import AgentExecutor, create_react_agent\n",
    "from langchain_openai import ChatOpenAI\n",
    "from dotenv import load_dotenv\n",
    "\n",
    "# Import custom tools\n",
    "from tools.oncall_employees import GetOncallEmployeesTool\n",
    "from tools.jira import CreateJiraTicketTool\n",
    "from tools.file import FilteredLogReaderTool\n",
    "from tools.stack_exchange import StackExchangeTool\n",
    "\n",
    "\n",
    "def setup_agent():\n",
    "    \"\"\"Set up the ReAct agent with the necessary tools.\"\"\"\n",
    "    llm = ChatOpenAI(model=\"gpt-4o-mini\")\n",
    "\n",
    "    # Load ReAct prompt\n",
    "    prompt = hub.pull(\"hwchase17/react\")\n",
    "\n",
    "    # Initialize tools\n",
    "    tools = [\n",
    "        FilteredLogReaderTool(log_file_path=LOG_FILE_PATH),\n",
    "        # StackExchangeTool(),\n",
    "        GetOncallEmployeesTool(),\n",
    "        CreateJiraTicketTool(),\n",
    "    ]\n",
    "\n",
    "    # Create the agent\n",
    "    agent = create_react_agent(llm, tools, prompt)\n",
    "\n",
    "    # Create the agent executor\n",
    "    agent_executor = AgentExecutor(\n",
    "        agent=agent,\n",
    "        tools=tools,\n",
    "        verbose=True,\n",
    "        handle_parsing_errors=True,\n",
    "        max_iterations=3,\n",
    "    )\n",
    "\n",
    "    return agent_executor\n",
    "\n",
    "\n",
    "agent_executor = setup_agent()"
   ]
  },
  {
   "cell_type": "code",
   "execution_count": null,
   "id": "d3cc2275",
   "metadata": {},
   "outputs": [],
   "source": [
    "prompt = (\n",
    "    \"Read logs from 2025-05-01 17:44:43 to 2025-05-01 17:44:44 and check for any errors or critical issues. \"\n",
    "    \"Use the filtered_log_reader tool with these exact timestamps to only look at new logs since the last check.\"\n",
    "    \"You need to then idenify the potential cause and the possible solution for each of the error you saw.\"\n",
    "    \"After idenifying the potential cause and possible solution use get_oncall_employees tool to find filter out on-call employees best suited to handle each error\"\n",
    "    \"Finally use create_jira_ticket to create appropriate tickets and assign it to the right employee\"\n",
    ")\n",
    "response = agent_executor.invoke({\"input\": prompt})"
   ]
  },
  {
   "cell_type": "code",
   "execution_count": null,
   "id": "23a72a04",
   "metadata": {},
   "outputs": [],
   "source": [
    "response"
   ]
  },
  {
   "cell_type": "code",
   "execution_count": null,
   "id": "633d5855",
   "metadata": {},
   "outputs": [],
   "source": []
  }
 ],
 "metadata": {
  "kernelspec": {
   "display_name": ".venv",
   "language": "python",
   "name": "python3"
  },
  "language_info": {
   "codemirror_mode": {
    "name": "ipython",
    "version": 3
   },
   "file_extension": ".py",
   "mimetype": "text/x-python",
   "name": "python",
   "nbconvert_exporter": "python",
   "pygments_lexer": "ipython3",
   "version": "3.12.5"
  }
 },
 "nbformat": 4,
 "nbformat_minor": 5
}
