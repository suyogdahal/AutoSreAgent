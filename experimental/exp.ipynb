{
 "cells": [
  {
   "cell_type": "code",
   "execution_count": 2,
   "id": "2346fd34",
   "metadata": {},
   "outputs": [],
   "source": [
    "%load_ext autoreload\n",
    "%autoreload 2"
   ]
  },
  {
   "cell_type": "code",
   "execution_count": 3,
   "id": "0ddf885c",
   "metadata": {},
   "outputs": [],
   "source": [
    "import sys\n",
    "from pathlib import Path\n",
    "\n",
    "# Add the parent directory to the system path\n",
    "sys.path.append(str(Path.cwd().parent))"
   ]
  },
  {
   "cell_type": "code",
   "execution_count": 4,
   "id": "4d266cf9",
   "metadata": {},
   "outputs": [],
   "source": [
    "# Import custom tools\n",
    "from tools.oncall_employees import GetOncallEmployeesTool\n",
    "from tools.jira import CreateJiraTicketTool\n",
    "from tools.file import FilteredLogReaderTool"
   ]
  },
  {
   "cell_type": "code",
   "execution_count": null,
   "id": "c243778e",
   "metadata": {},
   "outputs": [],
   "source": [
    "# Configure the log file path\n",
    "LOG_FILE_PATH = Path(\"/Users/suyog/personal/sreAgent/output/logs.log\")"
   ]
  },
  {
   "cell_type": "code",
   "execution_count": null,
   "id": "0f236c41",
   "metadata": {},
   "outputs": [],
   "source": []
  }
 ],
 "metadata": {
  "kernelspec": {
   "display_name": ".venv",
   "language": "python",
   "name": "python3"
  },
  "language_info": {
   "codemirror_mode": {
    "name": "ipython",
    "version": 3
   },
   "file_extension": ".py",
   "mimetype": "text/x-python",
   "name": "python",
   "nbconvert_exporter": "python",
   "pygments_lexer": "ipython3",
   "version": "3.12.5"
  }
 },
 "nbformat": 4,
 "nbformat_minor": 5
}
