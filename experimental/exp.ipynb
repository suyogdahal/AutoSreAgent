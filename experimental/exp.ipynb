{
 "cells": [
  {
   "cell_type": "code",
   "execution_count": 1,
   "id": "2346fd34",
   "metadata": {},
   "outputs": [],
   "source": [
    "%load_ext autoreload\n",
    "%autoreload 2"
   ]
  },
  {
   "cell_type": "code",
   "execution_count": 2,
   "id": "0ddf885c",
   "metadata": {},
   "outputs": [],
   "source": [
    "import sys\n",
    "from pathlib import Path\n",
    "\n",
    "# Add the parent directory to the system path\n",
    "sys.path.append(str(Path.cwd().parent))"
   ]
  },
  {
   "cell_type": "code",
   "execution_count": 3,
   "id": "c243778e",
   "metadata": {},
   "outputs": [],
   "source": [
    "# Configure the log file path\n",
    "LOG_FILE_PATH = Path(\"/Users/suyog/personal/sreAgent/output/logs.log\")"
   ]
  },
  {
   "cell_type": "code",
   "execution_count": 4,
   "id": "0f236c41",
   "metadata": {},
   "outputs": [
    {
     "name": "stderr",
     "output_type": "stream",
     "text": [
      "/Users/suyog/personal/sreAgent/.venv/lib/python3.12/site-packages/langsmith/client.py:272: LangSmithMissingAPIKeyWarning: API key must be provided when using hosted LangSmith API\n",
      "  warnings.warn(\n",
      "\u001b[32m2025-05-02 16:19:58.778\u001b[0m | \u001b[34m\u001b[1mDEBUG   \u001b[0m | \u001b[36mtools.file\u001b[0m:\u001b[36m__init__\u001b[0m:\u001b[36m40\u001b[0m - \u001b[34m\u001b[1mFilteredLogReaderTool initialized with log path: /Users/suyog/personal/sreAgent/output/logs.log\u001b[0m\n"
     ]
    }
   ],
   "source": [
    "from langchain import hub\n",
    "from langchain.agents import AgentExecutor, create_react_agent\n",
    "from langchain_openai import ChatOpenAI\n",
    "from dotenv import load_dotenv\n",
    "\n",
    "# Import custom tools\n",
    "from tools.oncall_employees import GetOncallEmployeesTool\n",
    "from tools.jira import CreateJiraTicketTool\n",
    "from tools.file import FilteredLogReaderTool\n",
    "from tools.stack_exchange import StackExchangeTool\n",
    "\n",
    "\n",
    "def setup_agent():\n",
    "    \"\"\"Set up the ReAct agent with the necessary tools.\"\"\"\n",
    "    llm = ChatOpenAI(model=\"gpt-4o-mini\")\n",
    "\n",
    "    # Load ReAct prompt\n",
    "    prompt = hub.pull(\"hwchase17/react\")\n",
    "\n",
    "    # Initialize tools\n",
    "    tools = [\n",
    "        FilteredLogReaderTool(log_file_path=LOG_FILE_PATH),\n",
    "        # StackExchangeTool(),\n",
    "        GetOncallEmployeesTool(),\n",
    "        CreateJiraTicketTool(),\n",
    "    ]\n",
    "\n",
    "    # Create the agent\n",
    "    agent = create_react_agent(llm, tools, prompt)\n",
    "\n",
    "    # Create the agent executor\n",
    "    agent_executor = AgentExecutor(\n",
    "        agent=agent,\n",
    "        tools=tools,\n",
    "        verbose=True,\n",
    "        handle_parsing_errors=True,\n",
    "        max_iterations=3,\n",
    "    )\n",
    "\n",
    "    return agent_executor\n",
    "\n",
    "\n",
    "agent_executor = setup_agent()"
   ]
  },
  {
   "cell_type": "code",
   "execution_count": 5,
   "id": "d3cc2275",
   "metadata": {},
   "outputs": [
    {
     "name": "stdout",
     "output_type": "stream",
     "text": [
      "\n",
      "\n",
      "\u001b[1m> Entering new AgentExecutor chain...\u001b[0m\n"
     ]
    },
    {
     "name": "stderr",
     "output_type": "stream",
     "text": [
      "\u001b[32m2025-05-02 16:20:00.050\u001b[0m | \u001b[1mINFO    \u001b[0m | \u001b[36mtools.base\u001b[0m:\u001b[36m_input_parser\u001b[0m:\u001b[36m19\u001b[0m - \u001b[1mParser recived input of type -> <class 'str'> \n",
      " value -> {'from_time': '2025-05-01 17:44:43', 'to_time': '2025-05-01 17:44:44'}\u001b[0m\n",
      "\u001b[32m2025-05-02 16:20:00.051\u001b[0m | \u001b[1mINFO    \u001b[0m | \u001b[36mtools.base\u001b[0m:\u001b[36m_input_parser\u001b[0m:\u001b[36m28\u001b[0m - \u001b[1mChecking for pattern from_time='([^']+)',\\s*to_time='([^']+)'\u001b[0m\n",
      "\u001b[32m2025-05-02 16:20:00.051\u001b[0m | \u001b[1mINFO    \u001b[0m | \u001b[36mtools.file\u001b[0m:\u001b[36m_run\u001b[0m:\u001b[36m68\u001b[0m - \u001b[1mReading logs with filters - from_time: 2025-05-01 17:44:43, to_time: 2025-05-01 17:44:44\u001b[0m\n",
      "\u001b[32m2025-05-02 16:20:00.052\u001b[0m | \u001b[34m\u001b[1mDEBUG   \u001b[0m | \u001b[36mtools.file\u001b[0m:\u001b[36m_run\u001b[0m:\u001b[36m84\u001b[0m - \u001b[34m\u001b[1mParsed from_time to 2025-05-01 17:44:43\u001b[0m\n",
      "\u001b[32m2025-05-02 16:20:00.053\u001b[0m | \u001b[34m\u001b[1mDEBUG   \u001b[0m | \u001b[36mtools.file\u001b[0m:\u001b[36m_run\u001b[0m:\u001b[36m92\u001b[0m - \u001b[34m\u001b[1mParsed to_time to 2025-05-01 17:44:44\u001b[0m\n",
      "\u001b[32m2025-05-02 16:20:00.053\u001b[0m | \u001b[34m\u001b[1mDEBUG   \u001b[0m | \u001b[36mtools.file\u001b[0m:\u001b[36m_run\u001b[0m:\u001b[36m98\u001b[0m - \u001b[34m\u001b[1mOpening log file: /Users/suyog/personal/sreAgent/output/logs.log\u001b[0m\n",
      "\u001b[32m2025-05-02 16:20:00.054\u001b[0m | \u001b[34m\u001b[1mDEBUG   \u001b[0m | \u001b[36mtools.file\u001b[0m:\u001b[36m_run\u001b[0m:\u001b[36m101\u001b[0m - \u001b[34m\u001b[1mRead 51 lines from log file\u001b[0m\n",
      "\u001b[32m2025-05-02 16:20:00.055\u001b[0m | \u001b[1mINFO    \u001b[0m | \u001b[36mtools.file\u001b[0m:\u001b[36m_run\u001b[0m:\u001b[36m127\u001b[0m - \u001b[1mFiltered 35/51 log entries\u001b[0m\n"
     ]
    },
    {
     "name": "stdout",
     "output_type": "stream",
     "text": [
      "\u001b[32;1m\u001b[1;3mI will first read the logs from the specified timestamps to check for errors or critical issues.\n",
      "\n",
      "Action: filtered_log_reader  \n",
      "Action Input: {'from_time': '2025-05-01 17:44:43', 'to_time': '2025-05-01 17:44:44'}  \u001b[0m\u001b[36;1m\u001b[1;3m[2025-05-01 17:44:43.055] [ERROR] [RequestID: 141e496c-6f90-4e69-9cd7-10fd536a631c] [host: suyogs-MacBook-Air.local] Unhandled exception during /api/auth request processing: ConnectionResetError: Connection reset by peer while fetching data from cache server\n",
      "Traceback (most recent call last):\n",
      "  File \"/app/banking/api/controllers.py\", line 83, in process_request\n",
      "    response = await service.execute_transaction(transaction_data)\n",
      "  File \"/app/banking/service/transaction_service.py\", line 191, in execute_transaction\n",
      "    result = await self.repository.commit(validated_data)\n",
      "  File \"/app/banking/repository/transaction_repo.py\", line 133, in commit\n",
      "    async with self.db_pool.acquire() as connection:\n",
      "        return await self._execute_transaction(connection, data)\n",
      "  File \"/app/banking/repository/base.py\", line 102, in _execute_transaction\n",
      "    await self._ensure_connection_healthy(conn)\n",
      "  File \"/app/banking/infrastructure/db/connection.py\", line 87, in _ensure_connection_healthy\n",
      "    await conn.execute(\"SELECT 1\")\n",
      "  File \"/usr/local/lib/python3.9/site-packages/asyncpg/connection.py\", line 1114, in execute\n",
      "    return await self._protocol.query(query, timeout)\n",
      "  File \"/usr/local/lib/python3.9/site-packages/asyncpg/protocol.py\", line 265, in query\n",
      "    raise ConnectionResetError(\"Connection reset by peer while fetching data from cache server\")\n",
      "[2025-05-01 17:44:44.440] [ERROR] [RequestID: 9790004d-0868-4dba-aea4-e2c677d2568c] [host: suyogs-MacBook-Air.local] Unhandled exception during /api/payments request processing: ConnectionRefusedError: Failed to connect to database primary at 10.45.2.8:5432\n",
      "Traceback (most recent call last):\n",
      "  File \"/app/banking/api/controllers.py\", line 176, in process_request\n",
      "    response = await service.execute_transaction(transaction_data)\n",
      "  File \"/app/banking/service/transaction_service.py\", line 126, in execute_transaction\n",
      "    result = await self.repository.commit(validated_data)\n",
      "  File \"/app/banking/repository/transaction_repo.py\", line 374, in commit\n",
      "    async with self.db_pool.acquire() as connection:\n",
      "        return await self._execute_transaction(connection, data)\n",
      "  File \"/app/banking/repository/base.py\", line 75, in _execute_transaction\n",
      "    await self._ensure_connection_healthy(conn)\n",
      "  File \"/app/banking/infrastructure/db/connection.py\", line 60, in _ensure_connection_healthy\n",
      "    await conn.execute(\"SELECT 1\")\n",
      "  File \"/usr/local/lib/python3.9/site-packages/asyncpg/connection.py\", line 1245, in execute\n",
      "    return await self._protocol.query(query, timeout)\n",
      "  File \"/usr/local/lib/python3.9/site-packages/asyncpg/protocol.py\", line 220, in query\n",
      "    raise ConnectionRefusedError(\"Failed to connect to database primary at 10.45.2.8:5432\")\n",
      "[2025-05-01 17:44:44.684] [WARNING] [RequestID: 5eccf3b1-65c3-47a5-b84e-7b625ce4b591] POST /api/transactions - User: user_1010 - Session: e9af5558-8214-4796-ad7d-54fc50d1d13f - IP: 27.24.184.223 - Status: 400 - Time: 1.211ms\n",
      "\u001b[0m"
     ]
    },
    {
     "name": "stderr",
     "output_type": "stream",
     "text": [
      "\u001b[32m2025-05-02 16:20:05.359\u001b[0m | \u001b[1mINFO    \u001b[0m | \u001b[36mtools.base\u001b[0m:\u001b[36m_input_parser\u001b[0m:\u001b[36m19\u001b[0m - \u001b[1mParser recived input of type -> <class 'str'> \n",
      " value -> {}\u001b[0m\n",
      "\u001b[32m2025-05-02 16:20:05.360\u001b[0m | \u001b[1mINFO    \u001b[0m | \u001b[36mtools.base\u001b[0m:\u001b[36m_input_parser\u001b[0m:\u001b[36m28\u001b[0m - \u001b[1mChecking for pattern team_name='([^']+)'\u001b[0m\n",
      "\u001b[32m2025-05-02 16:20:05.361\u001b[0m | \u001b[33m\u001b[1mWARNING \u001b[0m | \u001b[36mtools.oncall_employees\u001b[0m:\u001b[36m_run\u001b[0m:\u001b[36m104\u001b[0m - \u001b[33m\u001b[1mInvalid team name provided: None. Ignoring the filter ...Valid team names are: Infrastructure, Platform, Reliability, API Services, Data Platform\u001b[0m\n"
     ]
    },
    {
     "name": "stdout",
     "output_type": "stream",
     "text": [
      "\u001b[32;1m\u001b[1;3mI have identified two error logs during the specified timestamps:\n",
      "\n",
      "1. **Error 1**: `ConnectionResetError: Connection reset by peer while fetching data from cache server`\n",
      "   - **Potential Cause**: This error often occurs when the connection between the application and the cache server is interrupted. This could be due to network issues or the cache server being overloaded or down.\n",
      "   - **Possible Solution**: Verify the health and status of the cache server. Check network connectivity and consider increasing the timeout settings or handling reconnection logic in the application.\n",
      "\n",
      "2. **Error 2**: `ConnectionRefusedError: Failed to connect to database primary at 10.45.2.8:5432`\n",
      "   - **Potential Cause**: This error indicates that the application is unable to connect to the primary database. Possible reasons include the database server being down, incorrect connection parameters, or network issues.\n",
      "   - **Possible Solution**: Check if the database server is running and accepting connections. Ensure that the connection parameters are correct and on the same network. If the database is down, restart the database service or migrate to a standby server if available.\n",
      "\n",
      "Now, I need to find on-call employees who would be best suited to handle these two errors.\n",
      "\n",
      "Action: get_oncall_employees  \n",
      "Action Input: {}  \u001b[0m\u001b[33;1m\u001b[1;3mCurrent on-call employees:\n",
      "\n",
      "Name: Alice Johnson\n",
      "Email: alice.johnson@example.com\n",
      "Role: Senior SRE\n",
      "Team: Infrastructure\n",
      "\n",
      "Name: Bob Smith\n",
      "Email: bob.smith@example.com\n",
      "Role: DevOps Engineer\n",
      "Team: Platform\n",
      "\n",
      "Name: Carol Davis\n",
      "Email: carol.davis@example.com\n",
      "Role: SRE Manager\n",
      "Team: Reliability\n",
      "\n",
      "Name: Dave Wilson\n",
      "Email: dave.wilson@example.com\n",
      "Role: Backend Engineer\n",
      "Team: API Services\n",
      "\n",
      "Name: Eva Martinez\n",
      "Email: eva.martinez@example.com\n",
      "Role: Database Engineer\n",
      "Team: Data Platform\n",
      "\n",
      "Name: Frank Lee\n",
      "Email: frank.lee@example.com\n",
      "Role: Network Engineer\n",
      "Team: Infrastructure\n",
      "\n",
      "\u001b[0m"
     ]
    },
    {
     "name": "stderr",
     "output_type": "stream",
     "text": [
      "\u001b[32m2025-05-02 16:20:09.020\u001b[0m | \u001b[1mINFO    \u001b[0m | \u001b[36mtools.base\u001b[0m:\u001b[36m_input_parser\u001b[0m:\u001b[36m19\u001b[0m - \u001b[1mParser recived input of type -> <class 'str'> \n",
      " value -> {  \n",
      "  \"summary\": \"ConnectionResetError during /api/auth request processing\",  \n",
      "  \"description\": \"An unhandled exception occurred: ConnectionResetError: Connection reset by peer while fetching data from cache server. Verify and resolve cache server health and connectivity issues.\",  \n",
      "  \"assignee\": \"frank.lee@example.com\"  \n",
      "}\u001b[0m\n",
      "\u001b[32m2025-05-02 16:20:09.022\u001b[0m | \u001b[1mINFO    \u001b[0m | \u001b[36mtools.base\u001b[0m:\u001b[36m_input_parser\u001b[0m:\u001b[36m28\u001b[0m - \u001b[1mChecking for pattern summary='([^']+)',\\s*description='([^']+)',\\s*issue_type='([^']+)',\\s*assignee='([^']+)'\u001b[0m\n",
      "\u001b[32m2025-05-02 16:20:09.022\u001b[0m | \u001b[34m\u001b[1mDEBUG   \u001b[0m | \u001b[36mtools.jira\u001b[0m:\u001b[36m_run\u001b[0m:\u001b[36m66\u001b[0m - \u001b[34m\u001b[1mConnecting to JIRA at https://suyoginusa.atlassian.net with user suyoginusa@gmail.com\u001b[0m\n"
     ]
    },
    {
     "name": "stdout",
     "output_type": "stream",
     "text": [
      "\u001b[32;1m\u001b[1;3mFor the identified errors, I will assign the appropriate on-call employees based on their roles and teams.\n",
      "\n",
      "1. **Error 1** (ConnectionResetError):\n",
      "   - The best-suited employee for this error is likely to be **Frank Lee**, the Network Engineer. He can handle issues related to network connections and configurations.\n",
      "\n",
      "2. **Error 2** (ConnectionRefusedError):\n",
      "   - The best-suited employee for this error is **Eva Martinez**, the Database Engineer. She specializes in database-related issues and would be ideal for resolving connection problems with the database.\n",
      "\n",
      "Next, I will create Jira tickets for both errors and assign them to the respective employees.\n",
      "\n",
      "### Creating Jira ticket for Error 1\n",
      "Action: create_jira_ticket  \n",
      "Action Input: {  \n",
      "  \"summary\": \"ConnectionResetError during /api/auth request processing\",  \n",
      "  \"description\": \"An unhandled exception occurred: ConnectionResetError: Connection reset by peer while fetching data from cache server. Verify and resolve cache server health and connectivity issues.\",  \n",
      "  \"assignee\": \"frank.lee@example.com\"  \n",
      "}  \u001b[0m\u001b[38;5;200m\u001b[1;3mSuccessfully created Jira ticket: CRM-15. View it here: https://suyoginusa.atlassian.net/browse/CRM-15\u001b[0m\u001b[32;1m\u001b[1;3m\u001b[0m\n",
      "\n",
      "\u001b[1m> Finished chain.\u001b[0m\n"
     ]
    }
   ],
   "source": [
    "prompt = (\n",
    "    \"Read logs from 2025-05-01 17:44:43 to 2025-05-01 17:44:44 and check for any errors or critical issues. \"\n",
    "    \"Use the filtered_log_reader tool with these exact timestamps to only look at new logs since the last check.\"\n",
    "    \"You need to then idenify the potential cause and the possible solution for each of the error you saw.\"\n",
    "    \"After idenifying the potential cause and possible solution use get_oncall_employees tool to find filter out on-call employees best suited to handle each error\"\n",
    "    \"Finally use create_jira_ticket to create appropriate tickets and assign it to the right employee\"\n",
    ")\n",
    "response = agent_executor.invoke({\"input\": prompt})"
   ]
  },
  {
   "cell_type": "code",
   "execution_count": 6,
   "id": "23a72a04",
   "metadata": {},
   "outputs": [
    {
     "data": {
      "text/plain": [
       "{'input': 'Read logs from 2025-05-01 17:44:43 to 2025-05-01 17:44:44 and check for any errors or critical issues. Use the filtered_log_reader tool with these exact timestamps to only look at new logs since the last check.You need to then idenify the potential cause and the possible solution for each of the error you saw.After idenifying the potential cause and possible solution use get_oncall_employees tool to find filter out on-call employees best suited to handle each errorFinally use create_jira_ticket to create appropriate tickets and assign it to the right employee',\n",
       " 'output': 'Agent stopped due to iteration limit or time limit.'}"
      ]
     },
     "execution_count": 6,
     "metadata": {},
     "output_type": "execute_result"
    }
   ],
   "source": [
    "response"
   ]
  }
 ],
 "metadata": {
  "kernelspec": {
   "display_name": ".venv",
   "language": "python",
   "name": "python3"
  },
  "language_info": {
   "codemirror_mode": {
    "name": "ipython",
    "version": 3
   },
   "file_extension": ".py",
   "mimetype": "text/x-python",
   "name": "python",
   "nbconvert_exporter": "python",
   "pygments_lexer": "ipython3",
   "version": "3.12.5"
  }
 },
 "nbformat": 4,
 "nbformat_minor": 5
}
