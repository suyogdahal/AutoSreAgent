{
 "cells": [
  {
   "cell_type": "code",
   "execution_count": 1,
   "id": "2346fd34",
   "metadata": {},
   "outputs": [],
   "source": [
    "%load_ext autoreload\n",
    "%autoreload 2"
   ]
  },
  {
   "cell_type": "code",
   "execution_count": 2,
   "id": "0ddf885c",
   "metadata": {},
   "outputs": [],
   "source": [
    "import sys\n",
    "from pathlib import Path\n",
    "\n",
    "# Add the parent directory to the system path\n",
    "sys.path.append(str(Path.cwd().parent))"
   ]
  },
  {
   "cell_type": "code",
   "execution_count": 3,
   "id": "c243778e",
   "metadata": {},
   "outputs": [],
   "source": [
    "# Configure the log file path\n",
    "LOG_FILE_PATH = Path(\"/Users/suyog/personal/sreAgent/output/logs.log\")"
   ]
  },
  {
   "cell_type": "code",
   "execution_count": 4,
   "id": "0f236c41",
   "metadata": {},
   "outputs": [
    {
     "name": "stderr",
     "output_type": "stream",
     "text": [
      "/Users/suyog/personal/sreAgent/.venv/lib/python3.12/site-packages/langsmith/client.py:272: LangSmithMissingAPIKeyWarning: API key must be provided when using hosted LangSmith API\n",
      "  warnings.warn(\n",
      "\u001b[32m2025-05-02 16:30:13.752\u001b[0m | \u001b[34m\u001b[1mDEBUG   \u001b[0m | \u001b[36mtools.file\u001b[0m:\u001b[36m__init__\u001b[0m:\u001b[36m40\u001b[0m - \u001b[34m\u001b[1mFilteredLogReaderTool initialized with log path: /Users/suyog/personal/sreAgent/output/logs.log\u001b[0m\n"
     ]
    }
   ],
   "source": [
    "from langchain import hub\n",
    "from langchain.agents import AgentExecutor, create_react_agent\n",
    "from langchain_openai import ChatOpenAI\n",
    "from dotenv import load_dotenv\n",
    "\n",
    "# Import custom tools\n",
    "from tools.oncall_employees import GetOncallEmployeesTool\n",
    "from tools.jira import CreateJiraTicketTool\n",
    "from tools.file import FilteredLogReaderTool\n",
    "from tools.stack_exchange import StackExchangeTool\n",
    "\n",
    "\n",
    "def setup_agent():\n",
    "    \"\"\"Set up the ReAct agent with the necessary tools.\"\"\"\n",
    "    llm = ChatOpenAI(model=\"gpt-4o-mini\")\n",
    "\n",
    "    # Load ReAct prompt\n",
    "    prompt = hub.pull(\"hwchase17/react\")\n",
    "\n",
    "    # Initialize tools\n",
    "    tools = [\n",
    "        FilteredLogReaderTool(log_file_path=LOG_FILE_PATH),\n",
    "        GetOncallEmployeesTool(),\n",
    "        CreateJiraTicketTool(),\n",
    "    ]\n",
    "\n",
    "    # Create the agent\n",
    "    agent = create_react_agent(llm, tools, prompt)\n",
    "\n",
    "    # Create the agent executor\n",
    "    agent_executor = AgentExecutor(\n",
    "        agent=agent,\n",
    "        tools=tools,\n",
    "        verbose=True,\n",
    "        handle_parsing_errors=True,\n",
    "        max_iterations=10,\n",
    "    )\n",
    "\n",
    "    return agent_executor\n",
    "\n",
    "\n",
    "agent_executor = setup_agent()"
   ]
  },
  {
   "cell_type": "code",
   "execution_count": 5,
   "id": "d3cc2275",
   "metadata": {},
   "outputs": [
    {
     "name": "stdout",
     "output_type": "stream",
     "text": [
      "\n",
      "\n",
      "\u001b[1m> Entering new AgentExecutor chain...\u001b[0m\n"
     ]
    },
    {
     "name": "stderr",
     "output_type": "stream",
     "text": [
      "\u001b[32m2025-05-02 16:30:16.160\u001b[0m | \u001b[1mINFO    \u001b[0m | \u001b[36mtools.base\u001b[0m:\u001b[36m_input_parser\u001b[0m:\u001b[36m19\u001b[0m - \u001b[1mParser recived input of type -> <class 'str'> \n",
      " value -> {'from_time': '2025-05-01 17:44:43', 'to_time': '2025-05-01 17:44:44'}  \n",
      "\u001b[0m\n",
      "\u001b[32m2025-05-02 16:30:16.161\u001b[0m | \u001b[1mINFO    \u001b[0m | \u001b[36mtools.base\u001b[0m:\u001b[36m_input_parser\u001b[0m:\u001b[36m28\u001b[0m - \u001b[1mChecking for pattern from_time='([^']+)',\\s*to_time='([^']+)'\u001b[0m\n",
      "\u001b[32m2025-05-02 16:30:16.162\u001b[0m | \u001b[1mINFO    \u001b[0m | \u001b[36mtools.file\u001b[0m:\u001b[36m_run\u001b[0m:\u001b[36m68\u001b[0m - \u001b[1mReading logs with filters - from_time: 2025-05-01 17:44:43, to_time: 2025-05-01 17:44:44\u001b[0m\n",
      "\u001b[32m2025-05-02 16:30:16.163\u001b[0m | \u001b[34m\u001b[1mDEBUG   \u001b[0m | \u001b[36mtools.file\u001b[0m:\u001b[36m_run\u001b[0m:\u001b[36m84\u001b[0m - \u001b[34m\u001b[1mParsed from_time to 2025-05-01 17:44:43\u001b[0m\n",
      "\u001b[32m2025-05-02 16:30:16.164\u001b[0m | \u001b[34m\u001b[1mDEBUG   \u001b[0m | \u001b[36mtools.file\u001b[0m:\u001b[36m_run\u001b[0m:\u001b[36m92\u001b[0m - \u001b[34m\u001b[1mParsed to_time to 2025-05-01 17:44:44\u001b[0m\n",
      "\u001b[32m2025-05-02 16:30:16.164\u001b[0m | \u001b[34m\u001b[1mDEBUG   \u001b[0m | \u001b[36mtools.file\u001b[0m:\u001b[36m_run\u001b[0m:\u001b[36m98\u001b[0m - \u001b[34m\u001b[1mOpening log file: /Users/suyog/personal/sreAgent/output/logs.log\u001b[0m\n",
      "\u001b[32m2025-05-02 16:30:16.166\u001b[0m | \u001b[34m\u001b[1mDEBUG   \u001b[0m | \u001b[36mtools.file\u001b[0m:\u001b[36m_run\u001b[0m:\u001b[36m101\u001b[0m - \u001b[34m\u001b[1mRead 51 lines from log file\u001b[0m\n",
      "\u001b[32m2025-05-02 16:30:16.167\u001b[0m | \u001b[1mINFO    \u001b[0m | \u001b[36mtools.file\u001b[0m:\u001b[36m_run\u001b[0m:\u001b[36m127\u001b[0m - \u001b[1mFiltered 35/51 log entries\u001b[0m\n"
     ]
    },
    {
     "name": "stdout",
     "output_type": "stream",
     "text": [
      "\u001b[32;1m\u001b[1;3mTo address the request, I will first utilize the `filtered_log_reader` tool to obtain the log entries between the specified timestamps. I will look for any errors or critical issues within those logs once retrieved.\n",
      "\n",
      "Action: filtered_log_reader  \n",
      "Action Input: {'from_time': '2025-05-01 17:44:43', 'to_time': '2025-05-01 17:44:44'}  \n",
      "\u001b[0m\u001b[36;1m\u001b[1;3m[2025-05-01 17:44:43.055] [ERROR] [RequestID: 141e496c-6f90-4e69-9cd7-10fd536a631c] [host: suyogs-MacBook-Air.local] Unhandled exception during /api/auth request processing: ConnectionResetError: Connection reset by peer while fetching data from cache server\n",
      "Traceback (most recent call last):\n",
      "  File \"/app/banking/api/controllers.py\", line 83, in process_request\n",
      "    response = await service.execute_transaction(transaction_data)\n",
      "  File \"/app/banking/service/transaction_service.py\", line 191, in execute_transaction\n",
      "    result = await self.repository.commit(validated_data)\n",
      "  File \"/app/banking/repository/transaction_repo.py\", line 133, in commit\n",
      "    async with self.db_pool.acquire() as connection:\n",
      "        return await self._execute_transaction(connection, data)\n",
      "  File \"/app/banking/repository/base.py\", line 102, in _execute_transaction\n",
      "    await self._ensure_connection_healthy(conn)\n",
      "  File \"/app/banking/infrastructure/db/connection.py\", line 87, in _ensure_connection_healthy\n",
      "    await conn.execute(\"SELECT 1\")\n",
      "  File \"/usr/local/lib/python3.9/site-packages/asyncpg/connection.py\", line 1114, in execute\n",
      "    return await self._protocol.query(query, timeout)\n",
      "  File \"/usr/local/lib/python3.9/site-packages/asyncpg/protocol.py\", line 265, in query\n",
      "    raise ConnectionResetError(\"Connection reset by peer while fetching data from cache server\")\n",
      "[2025-05-01 17:44:44.440] [ERROR] [RequestID: 9790004d-0868-4dba-aea4-e2c677d2568c] [host: suyogs-MacBook-Air.local] Unhandled exception during /api/payments request processing: ConnectionRefusedError: Failed to connect to database primary at 10.45.2.8:5432\n",
      "Traceback (most recent call last):\n",
      "  File \"/app/banking/api/controllers.py\", line 176, in process_request\n",
      "    response = await service.execute_transaction(transaction_data)\n",
      "  File \"/app/banking/service/transaction_service.py\", line 126, in execute_transaction\n",
      "    result = await self.repository.commit(validated_data)\n",
      "  File \"/app/banking/repository/transaction_repo.py\", line 374, in commit\n",
      "    async with self.db_pool.acquire() as connection:\n",
      "        return await self._execute_transaction(connection, data)\n",
      "  File \"/app/banking/repository/base.py\", line 75, in _execute_transaction\n",
      "    await self._ensure_connection_healthy(conn)\n",
      "  File \"/app/banking/infrastructure/db/connection.py\", line 60, in _ensure_connection_healthy\n",
      "    await conn.execute(\"SELECT 1\")\n",
      "  File \"/usr/local/lib/python3.9/site-packages/asyncpg/connection.py\", line 1245, in execute\n",
      "    return await self._protocol.query(query, timeout)\n",
      "  File \"/usr/local/lib/python3.9/site-packages/asyncpg/protocol.py\", line 220, in query\n",
      "    raise ConnectionRefusedError(\"Failed to connect to database primary at 10.45.2.8:5432\")\n",
      "[2025-05-01 17:44:44.684] [WARNING] [RequestID: 5eccf3b1-65c3-47a5-b84e-7b625ce4b591] POST /api/transactions - User: user_1010 - Session: e9af5558-8214-4796-ad7d-54fc50d1d13f - IP: 27.24.184.223 - Status: 400 - Time: 1.211ms\n",
      "\u001b[0m"
     ]
    },
    {
     "name": "stderr",
     "output_type": "stream",
     "text": [
      "\u001b[32m2025-05-02 16:30:20.937\u001b[0m | \u001b[1mINFO    \u001b[0m | \u001b[36mtools.base\u001b[0m:\u001b[36m_input_parser\u001b[0m:\u001b[36m19\u001b[0m - \u001b[1mParser recived input of type -> <class 'str'> \n",
      " value -> {'team_name': 'Infrastructure'}  \n",
      "\u001b[0m\n",
      "\u001b[32m2025-05-02 16:30:20.938\u001b[0m | \u001b[1mINFO    \u001b[0m | \u001b[36mtools.base\u001b[0m:\u001b[36m_input_parser\u001b[0m:\u001b[36m28\u001b[0m - \u001b[1mChecking for pattern team_name='([^']+)'\u001b[0m\n"
     ]
    },
    {
     "name": "stdout",
     "output_type": "stream",
     "text": [
      "\u001b[32;1m\u001b[1;3mThe retrieved logs show two errors that need to be addressed:\n",
      "\n",
      "1. **Error 1** (ConnectionResetError):\n",
      "   - **Description**: An unhandled exception occurred during the `/api/auth` request processing, indicating that there was a \"Connection reset by peer while fetching data from the cache server.\"\n",
      "   - **Potential Cause**: This could be caused by the cache server restarting or becoming temporarily unavailable.\n",
      "   - **Possible Solution**: Check the status of the cache server and ensure it is operational. If necessary, restart the cache server.\n",
      "\n",
      "2. **Error 2** (ConnectionRefusedError):\n",
      "   - **Description**: An unhandled exception occurred during the `/api/payments` request processing, indicating a failure to connect to the primary database at the specified IP address.\n",
      "   - **Potential Cause**: The primary database may be down, or there may be network issues preventing access.\n",
      "   - **Possible Solution**: Verify the status of the database server and check network connectivity to the database. Restart the database if it is down.\n",
      "\n",
      "Next, I will use the `get_oncall_employees` tool to find employees who are on-call and may be best suited to handle each of these errors. \n",
      "\n",
      "I'll filter by the relevant teams: Infrastructure for the cache server issue, and Database or similar for the database connection issue.\n",
      "\n",
      "Action: get_oncall_employees  \n",
      "Action Input: {'team_name': 'Infrastructure'}  \n",
      "\u001b[0m\u001b[33;1m\u001b[1;3mCurrent on-call employees:\n",
      "\n",
      "Name: Alice Johnson\n",
      "Email: alice.johnson@example.com\n",
      "Role: Senior SRE\n",
      "Team: Infrastructure\n",
      "\n",
      "Name: Frank Lee\n",
      "Email: frank.lee@example.com\n",
      "Role: Network Engineer\n",
      "Team: Infrastructure\n",
      "\n",
      "\u001b[0m"
     ]
    },
    {
     "name": "stderr",
     "output_type": "stream",
     "text": [
      "\u001b[32m2025-05-02 16:30:22.724\u001b[0m | \u001b[1mINFO    \u001b[0m | \u001b[36mtools.base\u001b[0m:\u001b[36m_input_parser\u001b[0m:\u001b[36m19\u001b[0m - \u001b[1mParser recived input of type -> <class 'str'> \n",
      " value -> {'team_name': 'Reliability'}  \n",
      "\u001b[0m\n",
      "\u001b[32m2025-05-02 16:30:22.725\u001b[0m | \u001b[1mINFO    \u001b[0m | \u001b[36mtools.base\u001b[0m:\u001b[36m_input_parser\u001b[0m:\u001b[36m28\u001b[0m - \u001b[1mChecking for pattern team_name='([^']+)'\u001b[0m\n"
     ]
    },
    {
     "name": "stdout",
     "output_type": "stream",
     "text": [
      "\u001b[32;1m\u001b[1;3mWe have identified the potential on-call employees from the Infrastructure team who can assist with the cache server issue.\n",
      "\n",
      "Next, I will check for the on-call employees suited to address the database connection issue. This typically falls under either Database or a similar team, so I will retrieve the on-call employees for that team as well.\n",
      "\n",
      "Action: get_oncall_employees  \n",
      "Action Input: {'team_name': 'Reliability'}  \n",
      "\u001b[0m\u001b[33;1m\u001b[1;3mCurrent on-call employees:\n",
      "\n",
      "Name: Carol Davis\n",
      "Email: carol.davis@example.com\n",
      "Role: SRE Manager\n",
      "Team: Reliability\n",
      "\n",
      "\u001b[0m"
     ]
    },
    {
     "name": "stderr",
     "output_type": "stream",
     "text": [
      "\u001b[32m2025-05-02 16:30:28.051\u001b[0m | \u001b[1mINFO    \u001b[0m | \u001b[36mtools.base\u001b[0m:\u001b[36m_input_parser\u001b[0m:\u001b[36m19\u001b[0m - \u001b[1mParser recived input of type -> <class 'str'> \n",
      " value -> {'summary': 'Connection Reset Error during API Auth Requests', 'description': 'There was an unhandled exception during the `/api/auth` request processing. The error message indicates a connection reset by the peer while fetching data from the cache server. Potential causes could be related to the cache server\\'s status. Please investigate and ensure the cache server is operational.', 'assignee': 'alice.johnson@example.com'}  \n",
      "\u001b[0m\n",
      "\u001b[32m2025-05-02 16:30:28.052\u001b[0m | \u001b[1mINFO    \u001b[0m | \u001b[36mtools.base\u001b[0m:\u001b[36m_input_parser\u001b[0m:\u001b[36m28\u001b[0m - \u001b[1mChecking for pattern summary='([^']+)',\\s*description='([^']+)',\\s*issue_type='([^']+)',\\s*assignee='([^']+)'\u001b[0m\n",
      "\u001b[32m2025-05-02 16:30:28.053\u001b[0m | \u001b[34m\u001b[1mDEBUG   \u001b[0m | \u001b[36mtools.jira\u001b[0m:\u001b[36m_run\u001b[0m:\u001b[36m66\u001b[0m - \u001b[34m\u001b[1mConnecting to JIRA at https://suyoginusa.atlassian.net with user suyoginusa@gmail.com\u001b[0m\n"
     ]
    },
    {
     "name": "stdout",
     "output_type": "stream",
     "text": [
      "\u001b[32;1m\u001b[1;3mNow that I have the on-call personnel for both issues, I can construct Jira tickets for each error and assign them accordingly.\n",
      "\n",
      "**For the first error (ConnectionResetError)**:\n",
      "- **Summary**: Connection Reset Error during API Auth Requests\n",
      "- **Description**: There was an unhandled exception during the `/api/auth` request processing. The error message indicates a connection reset by the peer while fetching data from the cache server. Potential causes could be related to the cache server's status. Please investigate and ensure the cache server is operational.\n",
      "\n",
      "Assigned to: Alice Johnson (Senior SRE, Infrastructure)\n",
      "\n",
      "**For the second error (ConnectionRefusedError)**:\n",
      "- **Summary**: Connection Refused Error during API Payments Requests\n",
      "- **Description**: An unhandled exception occurred during the `/api/payments` request processing, indicating a failure to connect to the primary database at IP: 10.45.2.8:5432. Potential causes include the database being down or network issues. Please verify the database status and check network connectivity.\n",
      "\n",
      "Assigned to: Carol Davis (SRE Manager, Reliability)\n",
      "\n",
      "Now, I will create the Jira tickets for both issues.\n",
      "\n",
      "**Creating the first ticket**.\n",
      "\n",
      "Action: create_jira_ticket  \n",
      "Action Input: {'summary': 'Connection Reset Error during API Auth Requests', 'description': 'There was an unhandled exception during the `/api/auth` request processing. The error message indicates a connection reset by the peer while fetching data from the cache server. Potential causes could be related to the cache server\\'s status. Please investigate and ensure the cache server is operational.', 'assignee': 'alice.johnson@example.com'}  \n",
      "\u001b[0m\u001b[38;5;200m\u001b[1;3mSuccessfully created Jira ticket: CRM-16. View it here: https://suyoginusa.atlassian.net/browse/CRM-16\u001b[0m"
     ]
    },
    {
     "name": "stderr",
     "output_type": "stream",
     "text": [
      "\u001b[32m2025-05-02 16:30:31.077\u001b[0m | \u001b[1mINFO    \u001b[0m | \u001b[36mtools.base\u001b[0m:\u001b[36m_input_parser\u001b[0m:\u001b[36m19\u001b[0m - \u001b[1mParser recived input of type -> <class 'str'> \n",
      " value -> {'summary': 'Connection Refused Error during API Payments Requests', 'description': 'An unhandled exception occurred during the `/api/payments` request processing, indicating a failure to connect to the primary database at IP: 10.45.2.8:5432. Potential causes include the database being down or network issues. Please verify the database status and check network connectivity.', 'assignee': 'carol.davis@example.com'}  \n",
      "\u001b[0m\n",
      "\u001b[32m2025-05-02 16:30:31.077\u001b[0m | \u001b[1mINFO    \u001b[0m | \u001b[36mtools.base\u001b[0m:\u001b[36m_input_parser\u001b[0m:\u001b[36m28\u001b[0m - \u001b[1mChecking for pattern summary='([^']+)',\\s*description='([^']+)',\\s*issue_type='([^']+)',\\s*assignee='([^']+)'\u001b[0m\n",
      "\u001b[32m2025-05-02 16:30:31.078\u001b[0m | \u001b[34m\u001b[1mDEBUG   \u001b[0m | \u001b[36mtools.jira\u001b[0m:\u001b[36m_run\u001b[0m:\u001b[36m66\u001b[0m - \u001b[34m\u001b[1mConnecting to JIRA at https://suyoginusa.atlassian.net with user suyoginusa@gmail.com\u001b[0m\n"
     ]
    },
    {
     "name": "stdout",
     "output_type": "stream",
     "text": [
      "\u001b[32;1m\u001b[1;3mNow, I will create the second Jira ticket related to the database connection issue.\n",
      "\n",
      "Action: create_jira_ticket  \n",
      "Action Input: {'summary': 'Connection Refused Error during API Payments Requests', 'description': 'An unhandled exception occurred during the `/api/payments` request processing, indicating a failure to connect to the primary database at IP: 10.45.2.8:5432. Potential causes include the database being down or network issues. Please verify the database status and check network connectivity.', 'assignee': 'carol.davis@example.com'}  \n",
      "\u001b[0m\u001b[38;5;200m\u001b[1;3mSuccessfully created Jira ticket: CRM-17. View it here: https://suyoginusa.atlassian.net/browse/CRM-17\u001b[0m\u001b[32;1m\u001b[1;3mI have successfully created the required Jira tickets for the errors identified in the logs.\n",
      "\n",
      "Final Answer: \n",
      "1. **Jira Ticket for Connection Reset Error**: \n",
      "   - Summary: Connection Reset Error during API Auth Requests\n",
      "   - Description: There was an unhandled exception during the `/api/auth` request processing. The error message indicates a connection reset by the peer while fetching data from the cache server. Potential causes could be related to the cache server's status. Please investigate and ensure the cache server is operational.\n",
      "   - Assigned: Alice Johnson\n",
      "   - [View Ticket](https://suyoginusa.atlassian.net/browse/CRM-16)\n",
      "\n",
      "2. **Jira Ticket for Connection Refused Error**:\n",
      "   - Summary: Connection Refused Error during API Payments Requests\n",
      "   - Description: An unhandled exception occurred during the `/api/payments` request processing, indicating a failure to connect to the primary database at IP: 10.45.2.8:5432. Potential causes include the database being down or network issues. Please verify the database status and check network connectivity.\n",
      "   - Assigned: Carol Davis\n",
      "   - [View Ticket](https://suyoginusa.atlassian.net/browse/CRM-17)\u001b[0m\n",
      "\n",
      "\u001b[1m> Finished chain.\u001b[0m\n"
     ]
    }
   ],
   "source": [
    "prompt = (\n",
    "    \"Read logs from 2025-05-01 17:44:43 to 2025-05-01 17:44:44 and check for any errors or critical issues. \"\n",
    "    \"Use the filtered_log_reader tool with these exact timestamps to only look at new logs since the last check.\"\n",
    "    \"You need to then idenify the potential cause and the possible solution for each of the error you saw.\"\n",
    "    \"After idenifying the potential cause and possible solution use get_oncall_employees tool to find filter out on-call employees best suited to handle each error\"\n",
    "    \"Finally use create_jira_ticket to create appropriate tickets and assign it to the right employee\"\n",
    ")\n",
    "response = agent_executor.invoke({\"input\": prompt})"
   ]
  },
  {
   "cell_type": "code",
   "execution_count": 6,
   "id": "23a72a04",
   "metadata": {},
   "outputs": [
    {
     "data": {
      "text/plain": [
       "{'input': 'Read logs from 2025-05-01 17:44:43 to 2025-05-01 17:44:44 and check for any errors or critical issues. Use the filtered_log_reader tool with these exact timestamps to only look at new logs since the last check.You need to then idenify the potential cause and the possible solution for each of the error you saw.After idenifying the potential cause and possible solution use get_oncall_employees tool to find filter out on-call employees best suited to handle each errorFinally use create_jira_ticket to create appropriate tickets and assign it to the right employee',\n",
       " 'output': \"1. **Jira Ticket for Connection Reset Error**: \\n   - Summary: Connection Reset Error during API Auth Requests\\n   - Description: There was an unhandled exception during the `/api/auth` request processing. The error message indicates a connection reset by the peer while fetching data from the cache server. Potential causes could be related to the cache server's status. Please investigate and ensure the cache server is operational.\\n   - Assigned: Alice Johnson\\n   - [View Ticket](https://suyoginusa.atlassian.net/browse/CRM-16)\\n\\n2. **Jira Ticket for Connection Refused Error**:\\n   - Summary: Connection Refused Error during API Payments Requests\\n   - Description: An unhandled exception occurred during the `/api/payments` request processing, indicating a failure to connect to the primary database at IP: 10.45.2.8:5432. Potential causes include the database being down or network issues. Please verify the database status and check network connectivity.\\n   - Assigned: Carol Davis\\n   - [View Ticket](https://suyoginusa.atlassian.net/browse/CRM-17)\"}"
      ]
     },
     "execution_count": 6,
     "metadata": {},
     "output_type": "execute_result"
    }
   ],
   "source": [
    "response"
   ]
  }
 ],
 "metadata": {
  "kernelspec": {
   "display_name": ".venv",
   "language": "python",
   "name": "python3"
  },
  "language_info": {
   "codemirror_mode": {
    "name": "ipython",
    "version": 3
   },
   "file_extension": ".py",
   "mimetype": "text/x-python",
   "name": "python",
   "nbconvert_exporter": "python",
   "pygments_lexer": "ipython3",
   "version": "3.12.5"
  }
 },
 "nbformat": 4,
 "nbformat_minor": 5
}
