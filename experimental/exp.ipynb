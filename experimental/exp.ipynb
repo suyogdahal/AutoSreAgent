{
 "cells": [
  {
   "cell_type": "code",
   "execution_count": 1,
   "id": "2346fd34",
   "metadata": {},
   "outputs": [],
   "source": [
    "%load_ext autoreload\n",
    "%autoreload 2"
   ]
  },
  {
   "cell_type": "code",
   "execution_count": 2,
   "id": "0ddf885c",
   "metadata": {},
   "outputs": [],
   "source": [
    "import sys\n",
    "from pathlib import Path\n",
    "\n",
    "# Add the parent directory to the system path\n",
    "sys.path.append(str(Path.cwd().parent))"
   ]
  },
  {
   "cell_type": "code",
   "execution_count": 3,
   "id": "c243778e",
   "metadata": {},
   "outputs": [],
   "source": [
    "# Configure the log file path\n",
    "LOG_FILE_PATH = Path(\"/Users/suyog/personal/sreAgent/output/logs.log\")"
   ]
  },
  {
   "cell_type": "code",
   "execution_count": 4,
   "id": "0f236c41",
   "metadata": {},
   "outputs": [
    {
     "name": "stderr",
     "output_type": "stream",
     "text": [
      "/Users/suyog/personal/sreAgent/.venv/lib/python3.12/site-packages/langsmith/client.py:272: LangSmithMissingAPIKeyWarning: API key must be provided when using hosted LangSmith API\n",
      "  warnings.warn(\n"
     ]
    }
   ],
   "source": [
    "from langchain import hub\n",
    "from langchain.agents import AgentExecutor, create_react_agent\n",
    "from langchain_openai import ChatOpenAI\n",
    "from dotenv import load_dotenv\n",
    "\n",
    "# Import custom tools\n",
    "from tools.oncall_employees import GetOncallEmployeesTool\n",
    "from tools.jira import CreateJiraTicketTool\n",
    "from tools.file import FilteredLogReaderTool\n",
    "from tools.stack_exchange import StackExchangeTool\n",
    "\n",
    "\n",
    "def setup_agent():\n",
    "    \"\"\"Set up the ReAct agent with the necessary tools.\"\"\"\n",
    "    llm = ChatOpenAI(model=\"gpt-4o-mini\")\n",
    "\n",
    "    # Load ReAct prompt\n",
    "    prompt = hub.pull(\"hwchase17/react\")\n",
    "\n",
    "    # Initialize tools\n",
    "    tools = [\n",
    "        FilteredLogReaderTool(log_file_path=LOG_FILE_PATH),\n",
    "        GetOncallEmployeesTool(),\n",
    "        CreateJiraTicketTool(),\n",
    "    ]\n",
    "\n",
    "    # Create the agent\n",
    "    agent = create_react_agent(llm, tools, prompt)\n",
    "\n",
    "    # Create the agent executor\n",
    "    agent_executor = AgentExecutor(\n",
    "        agent=agent,\n",
    "        tools=tools,\n",
    "        verbose=True,\n",
    "        handle_parsing_errors=True,\n",
    "        max_iterations=10,\n",
    "    )\n",
    "\n",
    "    return agent_executor\n",
    "\n",
    "\n",
    "agent_executor = setup_agent()"
   ]
  },
  {
   "cell_type": "code",
   "execution_count": 5,
   "id": "d3cc2275",
   "metadata": {},
   "outputs": [
    {
     "name": "stdout",
     "output_type": "stream",
     "text": [
      "\n",
      "\n",
      "\u001b[1m> Entering new AgentExecutor chain...\u001b[0m\n",
      "\u001b[32;1m\u001b[1;3mI need to read the logs for any errors or critical issues that occurred within the specified time frame. I will use the `filtered_log_reader` tool with the provided timestamps. \n",
      "\n",
      "Action: filtered_log_reader  \n",
      "Action Input: {\"from_time\": \"2025-05-01 17:44:43\", \"to_time\": \"2025-05-01 17:44:44\"}  \u001b[0m\u001b[36;1m\u001b[1;3m[2025-05-01 17:44:43.055] [ERROR] [RequestID: 141e496c-6f90-4e69-9cd7-10fd536a631c] [host: suyogs-MacBook-Air.local] Unhandled exception during /api/auth request processing: ConnectionResetError: Connection reset by peer while fetching data from cache server\n",
      "Traceback (most recent call last):\n",
      "  File \"/app/banking/api/controllers.py\", line 83, in process_request\n",
      "    response = await service.execute_transaction(transaction_data)\n",
      "  File \"/app/banking/service/transaction_service.py\", line 191, in execute_transaction\n",
      "    result = await self.repository.commit(validated_data)\n",
      "  File \"/app/banking/repository/transaction_repo.py\", line 133, in commit\n",
      "    async with self.db_pool.acquire() as connection:\n",
      "        return await self._execute_transaction(connection, data)\n",
      "  File \"/app/banking/repository/base.py\", line 102, in _execute_transaction\n",
      "    await self._ensure_connection_healthy(conn)\n",
      "  File \"/app/banking/infrastructure/db/connection.py\", line 87, in _ensure_connection_healthy\n",
      "    await conn.execute(\"SELECT 1\")\n",
      "  File \"/usr/local/lib/python3.9/site-packages/asyncpg/connection.py\", line 1114, in execute\n",
      "    return await self._protocol.query(query, timeout)\n",
      "  File \"/usr/local/lib/python3.9/site-packages/asyncpg/protocol.py\", line 265, in query\n",
      "    raise ConnectionResetError(\"Connection reset by peer while fetching data from cache server\")\n",
      "\u001b[0m\u001b[32;1m\u001b[1;3mI need to analyze the observed error for potential causes and solutions. The error indicates a `ConnectionResetError`, suggesting that there was a problem with the connection to a cache server while processing a request. \n",
      "\n",
      "**Potential Cause:** The connection to the cache server may have been lost due to server overload, network issues, or the cache server itself being down.\n",
      "\n",
      "**Possible Solution:** Verify the status of the cache server, ensure it is running and can accept connections. If the server is overloaded, consider optimizing the requests made to it or scaling the cache server resources. \n",
      "\n",
      "Next, I will find out who is currently on-call in the Infrastructure or Reliability teams, as they would likely be best suited to handle issues related to server connections.\n",
      "\n",
      "Action: get_oncall_employees  \n",
      "Action Input: {\"team_name\": \"Infrastructure\"}  \u001b[0m\u001b[33;1m\u001b[1;3mCurrent on-call employees:\n",
      "\n",
      "Name: Alice Johnson\n",
      "Email: alice.johnson@example.com\n",
      "Role: Senior SRE\n",
      "Team: Infrastructure\n",
      "\n",
      "Name: Frank Lee\n",
      "Email: frank.lee@example.com\n",
      "Role: Network Engineer\n",
      "Team: Infrastructure\n",
      "\n",
      "\u001b[0m\u001b[32;1m\u001b[1;3mThere are two on-call employees in the Infrastructure team: Alice Johnson, a Senior SRE, and Frank Lee, a Network Engineer. Since the error pertains to a connection issue, Frank Lee as the Network Engineer might be particularly well-suited to address the network-related aspects of this error.\n",
      "\n",
      "Now, I will create a Jira ticket to document the issue and assign it to Frank Lee.\n",
      "\n",
      "Action: create_jira_ticket  \n",
      "Action Input: {\"summary\": \"ConnectionResetError during API authentication process\", \"description\": \"An error occurred during the processing of an API authentication request due to a ConnectionResetError. The connection to the cache server was lost. Please investigate the status and health of the cache server and resolve any underlying issues.\", \"issue_type\": \"Bug\", \"assignee\": \"frank.lee@example.com\"}  \u001b[0m\u001b[38;5;200m\u001b[1;3mSuccessfully created Jira ticket: CRM-21. View it here: https://suyoginusa.atlassian.net/browse/CRM-21\u001b[0m\u001b[32;1m\u001b[1;3mI have created a Jira ticket for the identified issue and assigned it to Frank Lee, who is well-suited to address the connection problem based on his role as a Network Engineer. \n",
      "\n",
      "Final Answer: A Jira ticket has been created for the `ConnectionResetError` during API authentication, assigned to Frank Lee. You can view the ticket here: [Jira Ticket CRM-21](https://suyoginusa.atlassian.net/browse/CRM-21).\u001b[0m\n",
      "\n",
      "\u001b[1m> Finished chain.\u001b[0m\n"
     ]
    }
   ],
   "source": [
    "prompt = (\n",
    "    \"Read logs from 2025-05-01 17:44:43 to 2025-05-01 17:44:44 and check for any errors or critical issues. \"\n",
    "    \"Use the filtered_log_reader tool with these exact timestamps to only look at new logs since the last check.\"\n",
    "    \"You need to then idenify the potential cause and the possible solution for each of the error you saw.\"\n",
    "    \"After idenifying the potential cause and possible solution use get_oncall_employees tool to find filter out on-call employees best suited to handle each error\"\n",
    "    \"Finally use create_jira_ticket to create appropriate tickets and assign it to the right employee\"\n",
    ")\n",
    "response = agent_executor.invoke({\"input\": prompt})"
   ]
  },
  {
   "cell_type": "code",
   "execution_count": 6,
   "id": "23a72a04",
   "metadata": {},
   "outputs": [
    {
     "data": {
      "text/plain": [
       "{'input': 'Read logs from 2025-05-01 17:44:43 to 2025-05-01 17:44:44 and check for any errors or critical issues. Use the filtered_log_reader tool with these exact timestamps to only look at new logs since the last check.You need to then idenify the potential cause and the possible solution for each of the error you saw.After idenifying the potential cause and possible solution use get_oncall_employees tool to find filter out on-call employees best suited to handle each errorFinally use create_jira_ticket to create appropriate tickets and assign it to the right employee',\n",
       " 'output': 'A Jira ticket has been created for the `ConnectionResetError` during API authentication, assigned to Frank Lee. You can view the ticket here: [Jira Ticket CRM-21](https://suyoginusa.atlassian.net/browse/CRM-21).'}"
      ]
     },
     "execution_count": 6,
     "metadata": {},
     "output_type": "execute_result"
    }
   ],
   "source": [
    "response"
   ]
  }
 ],
 "metadata": {
  "kernelspec": {
   "display_name": ".venv",
   "language": "python",
   "name": "python3"
  },
  "language_info": {
   "codemirror_mode": {
    "name": "ipython",
    "version": 3
   },
   "file_extension": ".py",
   "mimetype": "text/x-python",
   "name": "python",
   "nbconvert_exporter": "python",
   "pygments_lexer": "ipython3",
   "version": "3.12.5"
  }
 },
 "nbformat": 4,
 "nbformat_minor": 5
}
